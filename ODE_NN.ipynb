{
  "nbformat": 4,
  "nbformat_minor": 0,
  "metadata": {
    "colab": {
      "name": " ODE_NN.ipynb",
      "provenance": [],
      "collapsed_sections": []
    },
    "kernelspec": {
      "name": "python3",
      "display_name": "Python 3"
    }
  },
  "cells": [
    {
      "cell_type": "markdown",
      "metadata": {
        "id": "40INEDo14LXS"
      },
      "source": [
        "## Implementation\n",
        "\n",
        "Use of Neural Network for Solving Ordinary Differential Equation. For this reason, we will also choose a simply ODE:\n",
        "\n",
        "$$u'= x$$\n",
        "$$u(0)=1$$\n",
        "\n",
        "We can easily solve this problem by integrating both sides of the solution, leading to $u + C = x^2/2 +C$, and after fitting $C$ to obey the initial condition\n",
        "we have $u = x^2/2 + 1$. Nevertheless, instead of solving it analytically, let's try to solve using Neural Nets.\n",
        "\n",
        "$$u'= x$$\n",
        "$$ \\int u' \\,dx = \\int x \\,dx $$\n",
        "$$ u + C_1 = x^2/2 + C_2 $$\n",
        "$$ u = x^2/2 + C$$"
      ]
    },
    {
      "cell_type": "markdown",
      "metadata": {
        "id": "ZXjijxa49zXI"
      },
      "source": [
        "### Define Variables"
      ]
    },
    {
      "cell_type": "code",
      "metadata": {
        "id": "N5nYh-mG5o_b"
      },
      "source": [
        "# Importing Libraries\n",
        "import tensorflow as tf\n",
        "import matplotlib.pyplot as plt\n",
        "import numpy as np"
      ],
      "execution_count": 1,
      "outputs": []
    },
    {
      "cell_type": "code",
      "metadata": {
        "id": "5M126csrMRHM"
      },
      "source": [
        "# initial condition\n",
        "f0 = 1\n",
        "# infinitesimal small number\n",
        "inf_s = np.sqrt(np.finfo(np.float32).eps)\n",
        "\n",
        "# Parameters\n",
        "learning_rate = 0.01\n",
        "training_steps = 1000\n",
        "batch_size = 100\n",
        "display_step = training_steps/10\n",
        "\n",
        "# Network Parameters\n",
        "n_input = 1     # input layer number of neurons\n",
        "n_hidden_1 = 32 # 1st layer number of neurons\n",
        "n_hidden_2 = 32 # 2nd layer number of neurons\n",
        "n_output = 1    # output layer number of neurons\n",
        "\n",
        "weights = {\n",
        "    'h1': tf.Variable(tf.random.normal([n_input, n_hidden_1])),\n",
        "    'h2': tf.Variable(tf.random.normal([n_hidden_1, n_hidden_2])),\n",
        "    'out': tf.Variable(tf.random.normal([n_hidden_2, n_output]))\n",
        "}\n",
        "biases = {\n",
        "    'b1': tf.Variable(tf.random.normal([n_hidden_1])),\n",
        "    'b2': tf.Variable(tf.random.normal([n_hidden_2])),\n",
        "    'out': tf.Variable(tf.random.normal([n_output]))\n",
        "}\n",
        "\n",
        "# Stochastic gradient descent optimizer.\n",
        "optimizer = tf.optimizers.SGD(learning_rate)"
      ],
      "execution_count": 2,
      "outputs": []
    },
    {
      "cell_type": "code",
      "metadata": {
        "id": "TQC1eiisMR9H"
      },
      "source": [
        "# Create model\n",
        "def multilayer_perceptron(x):\n",
        "    x = np.array([[[x]]],  dtype='float32')\n",
        "    # Hidden fully connected layer with 32 neurons\n",
        "    layer_1 = tf.add(tf.matmul(x, weights['h1']), biases['b1'])\n",
        "    layer_1 = tf.nn.sigmoid(layer_1)\n",
        "    # Hidden fully connected layer with 32 neurons\n",
        "    layer_2 = tf.add(tf.matmul(layer_1, weights['h2']), biases['b2'])\n",
        "    layer_2 = tf.nn.sigmoid(layer_2)\n",
        "    # Output fully connected layer\n",
        "    output = tf.matmul(layer_2, weights['out']) + biases['out']\n",
        "    return tf.nn.sigmoid(output)\n",
        "\n",
        "# Universal Approximator\n",
        "def g(x):\n",
        "    return x * multilayer_perceptron(x) + f0\n",
        "\n",
        "# Given EDO\n",
        "def f(x):\n",
        "    return x\n",
        "    \n",
        "# Custom loss function to approximate the derivatives\n",
        "def custom_loss():\n",
        "    summation = []\n",
        "    for x in np.linspace(0,1,50):\n",
        "        dNN = (g(x+inf_s)-g(x))/inf_s\n",
        "        summation.append((dNN - f(x))**2)\n",
        "    return tf.reduce_sum(tf.abs(summation))\n",
        "    # return tf.sqrt(tf.reduce_mean(tf.abs(summation)))"
      ],
      "execution_count": 3,
      "outputs": []
    },
    {
      "cell_type": "code",
      "metadata": {
        "id": "PCOL8GKbM3K5"
      },
      "source": [
        "def train_step():\n",
        "    with tf.GradientTape() as tape:\n",
        "        loss = custom_loss()\n",
        "    trainable_variables = list(weights.values()) + list(biases.values())\n",
        "    gradients = tape.gradient(loss, trainable_variables)\n",
        "    optimizer.apply_gradients(zip(gradients, trainable_variables))"
      ],
      "execution_count": 4,
      "outputs": []
    },
    {
      "cell_type": "code",
      "metadata": {
        "colab": {
          "base_uri": "https://localhost:8080/"
        },
        "id": "RCwEn5gSOWEF",
        "outputId": "69c7bbdd-c218-40bf-cf4a-facfd0c15e35"
      },
      "source": [
        "for i in range(training_steps):\n",
        "    train_step()\n",
        "    if i % display_step == 0:\n",
        "        print(\"loss: %f \" % (custom_loss()))"
      ],
      "execution_count": 5,
      "outputs": [
        {
          "output_type": "stream",
          "name": "stdout",
          "text": [
            "loss: 11.155112 \n",
            "loss: 0.335660 \n",
            "loss: 0.152854 \n",
            "loss: 0.094964 \n",
            "loss: 0.069593 \n",
            "loss: 0.055662 \n",
            "loss: 0.043532 \n",
            "loss: 0.037262 \n",
            "loss: 0.032830 \n",
            "loss: 0.029838 \n"
          ]
        }
      ]
    },
    {
      "cell_type": "code",
      "metadata": {
        "colab": {
          "base_uri": "https://localhost:8080/",
          "height": 592
        },
        "id": "yHwDFJUJVPwq",
        "outputId": "966f2615-25ca-4da3-e3b3-7532c8043172"
      },
      "source": [
        "from matplotlib.pyplot import figure\n",
        "\n",
        "figure(figsize=(10,10))\n",
        "# True Solution (found analitically)\n",
        "def true_solution(x):\n",
        "    return (x**2)/2 + 1\n",
        "\n",
        "X = np.linspace(0, 1, 100)\n",
        "result = []\n",
        "for i in X:\n",
        "  # result.append(f(i))\n",
        "  result.append(g(i).numpy()[0][0][0])\n",
        "\n",
        "S = true_solution(X)\n",
        "  \n",
        "plt.plot(X, S, label=\"Original Function\")\n",
        "plt.plot(X, result, label=\"Neural Net Approximation\")\n",
        "plt.legend(loc=2, prop={'size': 20})\n",
        "plt.show()"
      ],
      "execution_count": 7,
      "outputs": [
        {
          "output_type": "display_data",
          "data": {
            "image/png": "[encoded data removed]",
            "text/plain": [
              "<Figure size 720x720 with 1 Axes>"
            ]
          },
          "metadata": {
            "needs_background": "light"
          }
        }
      ]
    },
    {
      "cell_type": "code",
      "source": [
        ""
      ],
      "metadata": {
        "id": "bAfe9eaeDUKH"
      },
      "execution_count": null,
      "outputs": []
    }
  ]
}